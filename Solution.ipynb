{
 "cells": [
  {
   "cell_type": "code",
   "execution_count": 95,
   "id": "73c55065",
   "metadata": {},
   "outputs": [],
   "source": [
    "import numpy as np\n",
    "import networkx as nx\n",
    "from collections import Counter\n",
    "\n",
    "\n",
    "F = open(\"words10k.txt\", \"r\")\n",
    "\n",
    "fourletters = open(\"four_letter_words.txt\", \"w\")\n",
    "i = 0\n",
    "for l in F:\n",
    "    if len(l) == 5:\n",
    "        fourletters.write(l)\n",
    "\n",
    "F.close()\n",
    "fourletters.close()"
   ]
  },
  {
   "cell_type": "code",
   "execution_count": 96,
   "id": "3e115c15",
   "metadata": {},
   "outputs": [],
   "source": [
    "from collections import Counter\n",
    "from string import ascii_lowercase\n",
    "from itertools import permutations\n",
    "from bisect import bisect_left\n",
    "\n",
    "four_letter_words = open(\"four_letter_words.txt\", \"r\").read().splitlines()\n",
    "four_letter_words.sort()\n",
    "\n",
    "def get_all_nbrs(w):\n",
    "    out = []\n",
    "    for i in range(4):\n",
    "        for c in ascii_lowercase:\n",
    "            if c != w[i]:\n",
    "                out.append(w[:i] + c + w[i+1:])\n",
    "    out += [''.join(x) for x in permutations(w)]\n",
    "    return out\n",
    "\n",
    "def in_sorted(l, a):\n",
    "    idx = bisect_left(l, a)\n",
    "    if idx >= len(l):\n",
    "        return False\n",
    "    return l[idx] == a\n",
    "\n",
    "def get_nbrs(w):\n",
    "    return [word for word in get_all_nbrs(w) if in_sorted(four_letter_words, word)]\n",
    "\n",
    "#get_nbrs(\"word\")"
   ]
  },
  {
   "cell_type": "code",
   "execution_count": 97,
   "id": "fb69b143",
   "metadata": {},
   "outputs": [],
   "source": [
    "G = nx.Graph()\n",
    "G.add_nodes_from(four_letter_words)\n",
    "\n",
    "Edges = []\n",
    "for word in four_letter_words:\n",
    "    for word2 in get_nbrs(word):\n",
    "        G.add_edge(word, word2)"
   ]
  },
  {
   "cell_type": "code",
   "execution_count": 100,
   "id": "f98e5d27",
   "metadata": {},
   "outputs": [],
   "source": [
    "p = nx.shortest_path(G)"
   ]
  },
  {
   "cell_type": "code",
   "execution_count": 105,
   "id": "7abb853d",
   "metadata": {},
   "outputs": [
    {
     "data": {
      "text/plain": [
       "['most', 'lost', 'list', 'lisa', 'sail', 'rail', 'rain']"
      ]
     },
     "execution_count": 105,
     "metadata": {},
     "output_type": "execute_result"
    }
   ],
   "source": [
    "p[\"most\"][\"rain\"]"
   ]
  },
  {
   "cell_type": "code",
   "execution_count": null,
   "id": "1ac8d0c7",
   "metadata": {},
   "outputs": [],
   "source": []
  }
 ],
 "metadata": {
  "kernelspec": {
   "display_name": "Python 3 (ipykernel)",
   "language": "python",
   "name": "python3"
  },
  "language_info": {
   "codemirror_mode": {
    "name": "ipython",
    "version": 3
   },
   "file_extension": ".py",
   "mimetype": "text/x-python",
   "name": "python",
   "nbconvert_exporter": "python",
   "pygments_lexer": "ipython3",
   "version": "3.11.4"
  }
 },
 "nbformat": 4,
 "nbformat_minor": 5
}
